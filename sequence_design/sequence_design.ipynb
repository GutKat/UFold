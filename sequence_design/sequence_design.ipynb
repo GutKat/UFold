{
 "cells": [
  {
   "cell_type": "code",
   "execution_count": null,
   "id": "0f819a8a-be8c-49b7-a01b-dd124a38443c",
   "metadata": {},
   "outputs": [],
   "source": [
    "import RNA\n",
    "import infrared as ir\n",
    "import infrared.rna as rna\n",
    "import random\n",
    "import math\n",
    "from collections import Counter\n",
    "import time\n",
    "import argparse\n"
   ]
  },
  {
   "cell_type": "code",
   "execution_count": null,
   "id": "5a01f6d6-4616-4689-aa9e-d6dcc51de2d8",
   "metadata": {},
   "outputs": [],
   "source": [
    "parser = argparse.ArgumentParser(description='A program for creating new structures from a fasta file using Infrared.')\n",
    "parser.add_argument('-i', '--input', type=str, help='the input fasta file')"
   ]
  },
  {
   "cell_type": "code",
   "execution_count": null,
   "id": "180eaed3-34b3-4d07-93a0-2bed5fc08a45",
   "metadata": {},
   "outputs": [],
   "source": [
    "file = \"ArchiveII.fa\"\n",
    "structures = []\n",
    "sequences = []\n",
    "with open(file, \"r\") as f:\n",
    "    for i, line in enumerate(f):\n",
    "        if i%3==2:\n",
    "            structures.append(line[:-1])\n",
    "        elif i%3==1:\n",
    "            sequences.append(line[:-1])"
   ]
  },
  {
   "cell_type": "markdown",
   "id": "090032cf-e4a2-4eef-a653-ae2eb73af3cc",
   "metadata": {},
   "source": [
    "<h1> Easy Version "
   ]
  },
  {
   "cell_type": "code",
   "execution_count": null,
   "id": "e87786d6-216a-4fc6-92ab-f7ede21e7c0b",
   "metadata": {},
   "outputs": [],
   "source": [
    "#easy version\n",
    "new_sequences = []\n",
    "\n",
    "tik = time.time()\n",
    "for target, seq in zip(structures, sequences):\n",
    "    n = len(target)\n",
    "    model = ir.Model(n, 4)\n",
    "    model.add_constraints(rna.BPComp(i,j) for (i,j) in rna.parse(target))\n",
    "    model.add_functions([rna.GCCont(i) for i in range(n)], 'gc')\n",
    "    \n",
    "    base_count = Counter(seq)\n",
    "    GC = (base_count[\"G\"]+base_count[\"C\"]) / len(seq)\n",
    "    model.set_feature_weight(GC, 'gc')\n",
    "    \n",
    "    sampler = ir.Sampler(model)\n",
    "    sample = sampler.sample()\n",
    "    new_seq = rna.ass_to_seq(sample)\n",
    "    new_sequences.append(new_seq)\n",
    "\n",
    "tok = time.time()\n",
    "calc_time_easy = (tok-tik)/60\n",
    "print(f\"search took {calc_time_easy:.2f} minutes for {len(sequences)} sequences\")"
   ]
  },
  {
   "cell_type": "markdown",
   "id": "6de40e73-503a-4018-beac-8b84786a6b3e",
   "metadata": {},
   "source": [
    "<h1> Frequency table"
   ]
  },
  {
   "cell_type": "code",
   "execution_count": null,
   "id": "46f2a876-de4a-446b-9cad-9fe9714981ca",
   "metadata": {},
   "outputs": [],
   "source": [
    "def single_target_design_model(target):\n",
    "    n, bps = len(target), rna.parse(target)\n",
    "    model = ir.Model(n, 4)\n",
    "    model.add_constraints(rna.BPComp(i, j) for (i, j) in bps)\n",
    "    model.add_functions([rna.GCCont(i) for i in range(n)], 'gc')\n",
    "    model.add_functions([rna.BPEnergy(i, j, (i-1, j+1) not in bps) for (i,j) in bps], 'energy')\n",
    "    #model.set_feature_weight(-1.5, 'energy')\n",
    "    return model\n",
    "\n",
    "\n",
    "def target_frequency(sequence, target):\n",
    "    fc = RNA.fold_compound(sequence)\n",
    "    fc.pf()\n",
    "    return fc.pr_structure(target)"
   ]
  },
  {
   "cell_type": "code",
   "execution_count": null,
   "id": "e20090b5-f960-4a3d-8572-d84f7fddae88",
   "metadata": {},
   "outputs": [],
   "source": [
    "new_sequences = []\n",
    "\n",
    "tik = time.time()\n",
    "#for target, seq in zip(structures, sequences):\n",
    "for j, target in enumerate(structures):\n",
    "    n = len(target)\n",
    "    sampler = ir.Sampler(single_target_design_model(target))\n",
    "    #base_count = Counter(seq)\n",
    "    #GC = (base_count[\"G\"]+base_count[\"C\"]) / len(seq)\n",
    "    #model.set_feature_weight(GC, 'gc')\n",
    "    \n",
    "    best = 0\n",
    "    best_seq = None\n",
    "    for i in range(100):\n",
    "        new_seq = rna.ass_to_seq(sampler.targeted_sample())\n",
    "        freq = target_frequency(new_seq,target)\n",
    "        if freq > best:\n",
    "            best = freq\n",
    "            best_seq = new_seq\n",
    "            #print(f\"{i} {best_seq} {freq:.6f}\")\n",
    "    if best_seq:\n",
    "        new_sequences.append(best_seq)\n",
    "    else:\n",
    "        new_sequences.append(new_seq)\n",
    "    if j%10 == 0:\n",
    "        print(f\"{j} of {len(structures)} structures done\")\n",
    "        \n",
    "\n",
    "tok = time.time()\n",
    "calc_time_easy = (tok-tik)/60\n",
    "print(f\"search took {calc_time_easy:.2f} minutes for {len(sequences)} sequences\")"
   ]
  },
  {
   "cell_type": "markdown",
   "id": "06752e6e-b60d-44dd-ad59-ca51afb10578",
   "metadata": {},
   "source": [
    "<h1> Sampling with constraint generation"
   ]
  },
  {
   "cell_type": "code",
   "execution_count": null,
   "id": "52a2747f-5360-4cb6-82ec-029e0c3b3eb8",
   "metadata": {},
   "outputs": [],
   "source": [
    "new_sequences = []\n",
    "\n",
    "tik = time.time()\n",
    "\n",
    "for j, target in enumerate(structures):\n",
    "    n = len(target)\n",
    "    bps = rna.parse(target)\n",
    "    def cg_design_iteration():\n",
    "        model = single_target_design_model(target)\n",
    "        model.add_constraints(rna.NotBPComp(i, j) for (i, j) in dbps)\n",
    "        sampler = ir.Sampler(model, lazy=True)\n",
    "        if sampler.treewidth() > 10 or not sampler.is_consistent():\n",
    "            return \"Not found\"\n",
    "        ctr = Counter()\n",
    "        found, sol = False, None\n",
    "        for i in range(50):\n",
    "            seq = rna.ass_to_seq(sampler.targeted_sample())\n",
    "            fc = RNA.fold_compound(seq)\n",
    "            mfe, mfe_e = fc.mfe()\n",
    "            if fc.eval_structure(target) == mfe_e:\n",
    "                sol = seq\n",
    "            ctr.update(rna.parse(mfe))\n",
    "        ndbps = [x[0] for x in ctr.most_common() if x[0] not in bps]\n",
    "        dbps.extend(ndbps[:2])\n",
    "        return sol\n",
    "    dbps, seq = [], None\n",
    "    while seq is None:\n",
    "        seq = cg_design_iteration()\n",
    "    if seq:\n",
    "        new_sequences.append(seq)\n",
    "    if j%10 == 0:\n",
    "        print(f\"{j} of {len(structures)} structures done\")\n",
    "\n",
    "tok = time.time()\n",
    "calc_time_easy = (tok-tik)/60\n",
    "print(f\"search took {calc_time_easy:.2f} minutes for {len(sequences)} sequences\")"
   ]
  },
  {
   "cell_type": "code",
   "execution_count": null,
   "id": "5b9438a9-6648-482f-9a16-f68ab0ab0982",
   "metadata": {},
   "outputs": [],
   "source": []
  }
 ],
 "metadata": {
  "kernelspec": {
   "display_name": "bioinf",
   "language": "python",
   "name": "bioinf"
  },
  "language_info": {
   "codemirror_mode": {
    "name": "ipython",
    "version": 3
   },
   "file_extension": ".py",
   "mimetype": "text/x-python",
   "name": "python",
   "nbconvert_exporter": "python",
   "pygments_lexer": "ipython3",
   "version": "3.9.7"
  }
 },
 "nbformat": 4,
 "nbformat_minor": 5
}
